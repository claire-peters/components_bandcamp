{
 "cells": [
  {
   "cell_type": "markdown",
   "metadata": {},
   "source": [
    "Notebook for preparing edge sheet from network-graph.csv"
   ]
  },
  {
   "cell_type": "code",
   "execution_count": 1,
   "metadata": {},
   "outputs": [],
   "source": [
    "import csv\n",
    "import json\n",
    "import pandas as pd\n",
    "from itertools import chain, combinations\n",
    "from collections import Counter\n",
    "import functools\n",
    "import operator\n",
    "from tqdm.notebook import tqdm"
   ]
  },
  {
   "cell_type": "code",
   "execution_count": 2,
   "metadata": {},
   "outputs": [],
   "source": [
    "# set pandas display options\n",
    "pd.set_option(\"display.max_rows\", 500)\n",
    "pd.set_option('display.max_colwidth', 500)\n",
    "pd.set_option(\"display.max_columns\", 200)"
   ]
  },
  {
   "cell_type": "code",
   "execution_count": 10,
   "metadata": {},
   "outputs": [],
   "source": [
    "conv_file = \"/Users/geistling/Documents/1_Projects/bandcamp/bandcamp_viz/notebooks/network-graph.csv\"\n",
    "edge_file = \"/Users/geistling/Documents/1_Projects/bandcamp/bandcamp_viz/notebooks/edge_sheet.csv\"\n",
    "node_file = \"/Users/geistling/Documents/1_Projects/bandcamp/bandcamp_viz/notebooks/node_sheet.csv\""
   ]
  },
  {
   "cell_type": "code",
   "execution_count": 11,
   "metadata": {},
   "outputs": [],
   "source": [
    "album_data = pd.read_csv(conv_file)"
   ]
  },
  {
   "cell_type": "markdown",
   "metadata": {},
   "source": [
    "# 1. Produce edge_sheet.csv from network-graph.csv"
   ]
  },
  {
   "cell_type": "code",
   "execution_count": 12,
   "metadata": {},
   "outputs": [],
   "source": [
    "# global tallying, edges\n",
    "grouped = album_data.groupby('standard_name')\n",
    "Collected = pd.DataFrame(columns =['genre1', 'genre2','count','location'])\n",
    "\n",
    "for place, group in grouped:\n",
    "    edge_list = []\n",
    "    genre_list = group['genre']\n",
    "    for item in genre_list:\n",
    "        genres_in_list = sorted(list(item.split(\",\")))\n",
    "        genre_combs = combinations(genres_in_list, 2)\n",
    "        # return list of tuples\n",
    "        for combination in genre_combs:\n",
    "            edge_list.append([combination])\n",
    "    edge_tally = Counter(chain(*edge_list))\n",
    "\n",
    "    edge_tallies_dict = dict(edge_tally)\n",
    "\n",
    "    edgeprep_dataframe = pd.DataFrame.from_dict(edge_tallies_dict, orient='index')\n",
    "    edgeprep_dataframe.rename(columns = {0:'count'}, inplace = True) \n",
    "    edgeprep_dataframe['genre_pair'] = edgeprep_dataframe.index\n",
    "    edgeprep_dataframe['row'] = edgeprep_dataframe.reset_index().index\n",
    "    edgeprep_dataframe = edgeprep_dataframe.set_index(['row'])\n",
    "\n",
    "    genre_edges = pd.DataFrame(list(edgeprep_dataframe['genre_pair']), columns =['genre1', 'genre2']) \n",
    "\n",
    "    count = edgeprep_dataframe['count']\n",
    "    genre_edges = genre_edges.join(count)\n",
    "    genre_edges['location'] = place\n",
    "    Collected = Collected.append(genre_edges)"
   ]
  },
  {
   "cell_type": "code",
   "execution_count": 13,
   "metadata": {},
   "outputs": [],
   "source": [
    "Collected.to_csv(edge_file, index=False)"
   ]
  },
  {
   "cell_type": "code",
   "execution_count": 14,
   "metadata": {},
   "outputs": [
    {
     "data": {
      "text/html": [
       "<div>\n",
       "<style scoped>\n",
       "    .dataframe tbody tr th:only-of-type {\n",
       "        vertical-align: middle;\n",
       "    }\n",
       "\n",
       "    .dataframe tbody tr th {\n",
       "        vertical-align: top;\n",
       "    }\n",
       "\n",
       "    .dataframe thead th {\n",
       "        text-align: right;\n",
       "    }\n",
       "</style>\n",
       "<table border=\"1\" class=\"dataframe\">\n",
       "  <thead>\n",
       "    <tr style=\"text-align: right;\">\n",
       "      <th></th>\n",
       "      <th>genre1</th>\n",
       "      <th>genre2</th>\n",
       "      <th>count</th>\n",
       "      <th>location</th>\n",
       "    </tr>\n",
       "  </thead>\n",
       "  <tbody>\n",
       "    <tr>\n",
       "      <th>0</th>\n",
       "      <td>ebm</td>\n",
       "      <td>electronic</td>\n",
       "      <td>28</td>\n",
       "      <td>Adelaide SA, Australia</td>\n",
       "    </tr>\n",
       "    <tr>\n",
       "      <th>1</th>\n",
       "      <td>ebm</td>\n",
       "      <td>electronica</td>\n",
       "      <td>23</td>\n",
       "      <td>Adelaide SA, Australia</td>\n",
       "    </tr>\n",
       "    <tr>\n",
       "      <th>2</th>\n",
       "      <td>ebm</td>\n",
       "      <td>industrial</td>\n",
       "      <td>27</td>\n",
       "      <td>Adelaide SA, Australia</td>\n",
       "    </tr>\n",
       "    <tr>\n",
       "      <th>3</th>\n",
       "      <td>electronic</td>\n",
       "      <td>electronica</td>\n",
       "      <td>63</td>\n",
       "      <td>Adelaide SA, Australia</td>\n",
       "    </tr>\n",
       "    <tr>\n",
       "      <th>4</th>\n",
       "      <td>electronic</td>\n",
       "      <td>industrial</td>\n",
       "      <td>27</td>\n",
       "      <td>Adelaide SA, Australia</td>\n",
       "    </tr>\n",
       "  </tbody>\n",
       "</table>\n",
       "</div>"
      ],
      "text/plain": [
       "       genre1       genre2 count                location\n",
       "0         ebm   electronic    28  Adelaide SA, Australia\n",
       "1         ebm  electronica    23  Adelaide SA, Australia\n",
       "2         ebm   industrial    27  Adelaide SA, Australia\n",
       "3  electronic  electronica    63  Adelaide SA, Australia\n",
       "4  electronic   industrial    27  Adelaide SA, Australia"
      ]
     },
     "execution_count": 14,
     "metadata": {},
     "output_type": "execute_result"
    }
   ],
   "source": [
    "Collected.head()"
   ]
  },
  {
   "cell_type": "markdown",
   "metadata": {},
   "source": [
    "# 2. produce json file from the edge and node sheet"
   ]
  },
  {
   "cell_type": "code",
   "execution_count": 15,
   "metadata": {},
   "outputs": [],
   "source": [
    "json_file = \"/Users/geistling/Documents/1_Projects/bandcamp/bandcamp_viz/data/network_graph.json\""
   ]
  },
  {
   "cell_type": "code",
   "execution_count": 16,
   "metadata": {},
   "outputs": [],
   "source": [
    "with open(json_file, \"r\") as jsonFile:\n",
    "    json_output = json.load(jsonFile)\n",
    "node_reader = pd.read_csv(node_file)\n",
    "\n",
    "# idea - \n",
    "for row in node_reader.itertuples():\n",
    "    place_obj = {'n':[], 'l':[]}\n",
    "    place_matches = [obj for obj in json_output if obj['ct'] == row.location]\n",
    "    if not place_matches:\n",
    "#         print(\"NEW PLACE:\", row.location)\n",
    "        place_obj['ct'] = row.location\n",
    "        place_obj['cor'] = [row.lng, row.lat]\n",
    "        json_output.append(place_obj)\n",
    "    elif place_matches:\n",
    "        place_obj = place_matches[0]\n",
    "    place_obj[\"n\"].append({\"g\":row.genre,\"c\":row.count,\"r\":round(row.relative, 3)})\n",
    "\n",
    "link_reader = pd.read_csv(edge_file)\n",
    "for row in link_reader.itertuples():\n",
    "#     place_matches = [json_output[json_output['ct'].str.contains(row.location)]]\n",
    "    place_matches = [obj for obj in json_output if obj['ct'] == row.location]\n",
    "    if not place_matches:\n",
    "        print(row)\n",
    "    place_obj = place_matches[0]\n",
    "    place_obj[\"l\"].append({\"g1\":row.genre1,\"g2\":row.genre2,\"c\":row.count})\n",
    "\n",
    "with open(json_file, \"w\") as jsonFile:\n",
    "    json.dump(json_output, jsonFile, separators=(',', ':'))\n"
   ]
  },
  {
   "cell_type": "code",
   "execution_count": null,
   "metadata": {},
   "outputs": [],
   "source": []
  }
 ],
 "metadata": {
  "kernelspec": {
   "display_name": "Python 3",
   "language": "python",
   "name": "python3"
  },
  "language_info": {
   "codemirror_mode": {
    "name": "ipython",
    "version": 3
   },
   "file_extension": ".py",
   "mimetype": "text/x-python",
   "name": "python",
   "nbconvert_exporter": "python",
   "pygments_lexer": "ipython3",
   "version": "3.8.5"
  }
 },
 "nbformat": 4,
 "nbformat_minor": 4
}
