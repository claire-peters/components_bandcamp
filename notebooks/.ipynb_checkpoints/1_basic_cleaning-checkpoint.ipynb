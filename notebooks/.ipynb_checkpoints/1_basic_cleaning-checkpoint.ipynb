{
 "cells": [
  {
   "cell_type": "markdown",
   "metadata": {},
   "source": [
    "Notebook 1. Cleans the network-graph csv.\n",
    "- corrects genre misspellings and alternate spellings\n",
    "- removes non-cities, useless non-genres, and duplicate genres."
   ]
  },
  {
   "cell_type": "markdown",
   "metadata": {},
   "source": [
    "## Set up"
   ]
  },
  {
   "cell_type": "code",
   "execution_count": 1,
   "metadata": {},
   "outputs": [],
   "source": [
    "%load_ext autoreload\n",
    "%autoreload 2"
   ]
  },
  {
   "cell_type": "code",
   "execution_count": 2,
   "metadata": {},
   "outputs": [],
   "source": [
    "import csv\n",
    "import pandas as pd\n",
    "from itertools import combinations\n",
    "from tqdm.notebook import tqdm"
   ]
  },
  {
   "cell_type": "code",
   "execution_count": 3,
   "metadata": {},
   "outputs": [],
   "source": [
    "# USER CONTROLS\n",
    "\n",
    "# set path for csv file here\n",
    "path = \"/Users/geistling/Documents/1_Projects/bandcamp/network_graph/\""
   ]
  },
  {
   "cell_type": "code",
   "execution_count": 4,
   "metadata": {},
   "outputs": [],
   "source": [
    "# set pandas display options\n",
    "pd.set_option(\"display.max_rows\", 350)\n",
    "pd.set_option('display.max_colwidth', 500)\n",
    "pd.set_option(\"display.max_columns\", 200)"
   ]
  },
  {
   "cell_type": "code",
   "execution_count": 5,
   "metadata": {},
   "outputs": [],
   "source": [
    "# start with from_country,to_country,count\n",
    "conv_file = \"{}network-graph.csv\".format(path)"
   ]
  },
  {
   "cell_type": "code",
   "execution_count": 9,
   "metadata": {},
   "outputs": [
    {
     "data": {
      "text/plain": [
       "standard_name    477892\n",
       "genre            477892\n",
       "dtype: int64"
      ]
     },
     "execution_count": 9,
     "metadata": {},
     "output_type": "execute_result"
    }
   ],
   "source": [
    "reader = pd.read_csv(conv_file) #, index_col=0\n",
    "reader.count()"
   ]
  },
  {
   "cell_type": "code",
   "execution_count": 10,
   "metadata": {},
   "outputs": [
    {
     "data": {
      "text/html": [
       "<div>\n",
       "<style scoped>\n",
       "    .dataframe tbody tr th:only-of-type {\n",
       "        vertical-align: middle;\n",
       "    }\n",
       "\n",
       "    .dataframe tbody tr th {\n",
       "        vertical-align: top;\n",
       "    }\n",
       "\n",
       "    .dataframe thead th {\n",
       "        text-align: right;\n",
       "    }\n",
       "</style>\n",
       "<table border=\"1\" class=\"dataframe\">\n",
       "  <thead>\n",
       "    <tr style=\"text-align: right;\">\n",
       "      <th></th>\n",
       "      <th>standard_name</th>\n",
       "      <th>genre</th>\n",
       "    </tr>\n",
       "  </thead>\n",
       "  <tbody>\n",
       "    <tr>\n",
       "      <th>0</th>\n",
       "      <td>Adelaide SA, Australia</td>\n",
       "      <td>electronic,industrial,ebm,electronica</td>\n",
       "    </tr>\n",
       "    <tr>\n",
       "      <th>1</th>\n",
       "      <td>Adelaide SA, Australia</td>\n",
       "      <td>electronica,industrial,ebm,electronic</td>\n",
       "    </tr>\n",
       "    <tr>\n",
       "      <th>2</th>\n",
       "      <td>Adelaide SA, Australia</td>\n",
       "      <td>electronica,ebm,industrial,electronic</td>\n",
       "    </tr>\n",
       "    <tr>\n",
       "      <th>3</th>\n",
       "      <td>Adelaide SA, Australia</td>\n",
       "      <td>industrial,electronic,electronica,ebm</td>\n",
       "    </tr>\n",
       "    <tr>\n",
       "      <th>4</th>\n",
       "      <td>Adelaide SA, Australia</td>\n",
       "      <td>electronica,ebm,electronic,industrial</td>\n",
       "    </tr>\n",
       "  </tbody>\n",
       "</table>\n",
       "</div>"
      ],
      "text/plain": [
       "            standard_name                                  genre\n",
       "0  Adelaide SA, Australia  electronic,industrial,ebm,electronica\n",
       "1  Adelaide SA, Australia  electronica,industrial,ebm,electronic\n",
       "2  Adelaide SA, Australia  electronica,ebm,industrial,electronic\n",
       "3  Adelaide SA, Australia  industrial,electronic,electronica,ebm\n",
       "4  Adelaide SA, Australia  electronica,ebm,electronic,industrial"
      ]
     },
     "execution_count": 10,
     "metadata": {},
     "output_type": "execute_result"
    }
   ],
   "source": [
    "reader.head()"
   ]
  },
  {
   "cell_type": "markdown",
   "metadata": {},
   "source": [
    "# Preliminary cleaning"
   ]
  },
  {
   "cell_type": "markdown",
   "metadata": {},
   "source": [
    "## 1. remove non-cities from the set"
   ]
  },
  {
   "cell_type": "code",
   "execution_count": 11,
   "metadata": {},
   "outputs": [
    {
     "data": {
      "text/plain": [
       "standard_name    477892\n",
       "genre            477892\n",
       "dtype: int64"
      ]
     },
     "execution_count": 11,
     "metadata": {},
     "output_type": "execute_result"
    }
   ],
   "source": [
    "# reader.standard_name.unique()\n",
    "# \n",
    "notcities = [\n",
    "    'Antarctica',\n",
    "    'Argentina',\n",
    "    'Arizona, USA',\n",
    "    'Australia', \n",
    "    'Austria',\n",
    "    'Belgium',\n",
    "    'British Columbia, Canada',\n",
    "    'Brazil',\n",
    "    'Bulgaria',\n",
    "    'Chile',\n",
    "    'California, USA',\n",
    "    'Colombia',\n",
    "    'Colorado, USA',\n",
    "    'Connecticut, USA',\n",
    "    'Denmark',\n",
    "    'England, UK',\n",
    "    'Finland',\n",
    "    'Florida, USA',\n",
    "    'France',\n",
    "    'Germany',\n",
    "    'Greece',\n",
    "    'Jamaica', \n",
    "    'Japan',\n",
    "    'Hawaii, USA',\n",
    "    'Hungary',\n",
    "    'Iceland', \n",
    "    'Indiana, USA', \n",
    "    'India',\n",
    "    'Italy', \n",
    "    'Lithuania',\n",
    "    'Maryland, USA',\n",
    "    'Massachusetts, USA',\n",
    "    'Mexico',\n",
    "    'Michigan, USA',\n",
    "    'Minnesota, USA',\n",
    "    'Netherlands',\n",
    "    'New Jersey, USA',\n",
    "    'New York, USA', \n",
    "    'New Zealand',\n",
    "    'North Carolina, USA',\n",
    "    'North Rhine-Westphalia, Germany',\n",
    "    'Norway',\n",
    "    'Ohio, USA',\n",
    "    'Ontario, Canada',\n",
    "    'Oregon, USA', \n",
    "    'Pennsylvania, USA',\n",
    "    'Poland',\n",
    "    'Portugal',\n",
    "    'Romania',\n",
    "    'Russia',\n",
    "    'Scotland, UK',\n",
    "    'Slovenia',\n",
    "    'South Africa',\n",
    "    'Spain',\n",
    "    'Sweden',\n",
    "    'Switzerland',\n",
    "    'Texas, USA',\n",
    "    'United Kingdom',\n",
    "    'Ukraine', \n",
    "    'Virginia, USA',\n",
    "    'Wales, UK',\n",
    "    'Washington, USA',\n",
    "    'Wisconsin, USA'\n",
    "]\n",
    "\n",
    "reader = reader.loc[~reader['standard_name'].isin(notcities)].copy()\n",
    "reader.count()\n",
    "# first file: 317741"
   ]
  },
  {
   "cell_type": "markdown",
   "metadata": {},
   "source": [
    "## 2. rename incorrect genres"
   ]
  },
  {
   "cell_type": "code",
   "execution_count": 13,
   "metadata": {},
   "outputs": [],
   "source": [
    "# list of aliases. Phrase on the left is replaced with the one on the right. \n",
    "# Objective is to correct misspellings and combine genres that have multiple recognized spellings.\n",
    "genre_aliases = [\n",
    "    [' bpm',''],\n",
    "#     ['140 bpm','140'],\n",
    "#     ['160 bpm', '160'],\n",
    "    ['1980s', '80s'],\n",
    "    ['1990s', '90s'],\n",
    "    ['a capella', 'a cappella'],\n",
    "    ['acid tekno', 'acid techno'],\n",
    "    ['afro beats','afro beat'],\n",
    "    ['alt county','alt country'],\n",
    "    ['alternativehip hop', 'alternative hip hop'],\n",
    "    ['avant gard', 'avant garde'],\n",
    "    ['ambiant','ambient'],\n",
    "    ['audio book','audiobooks'],\n",
    "    ['backing track', 'backing tracks'],\n",
    "    ['backing trackss', 'backing tracks'],\n",
    "    ['ballads', 'ballad'],\n",
    "    ['beat tapes', 'beat tape'],\n",
    "    ['berlin school electronic music', 'berlin school'],\n",
    "    ['break beat', 'breakbeat'],\n",
    "    ['breakbeats', 'breakbeat'],\n",
    "    ['cassettes', 'cassette'],\n",
    "    ['cassette tape', 'cassette'],\n",
    "    ['comedy songs', 'comedy'],\n",
    "    ['chiptunes', 'chiptune'],\n",
    "    ['chip tune', 'chiptune'],\n",
    "    ['covers','cover'],\n",
    "    ['dark techno industrial', 'dark techno,industrial'],\n",
    "    ['dub step', 'dubstep'],\n",
    "    ['tapes', 'tape'],\n",
    "    ['christmas music', 'christmas'],\n",
    "    ['dance hall', 'dancehall'],\n",
    "    ['dance music', 'dance'],\n",
    "    ['dark psy darkpsy', 'dark psy'],\n",
    "    ['demo', 'demos'],\n",
    "    ['digeridoo','didgeridoo'],\n",
    "    ['disco edit', 'disco edits'],\n",
    "    ['dnb', 'drum & bass'],\n",
    "    ['down tempo', 'downtempo'],\n",
    "    ['drone ambient', 'ambient drone'],\n",
    "    ['drum n bass', 'drum & bass'],\n",
    "    ['drumandbass', 'drum & bass'],\n",
    "    ['d&b', 'drum & bass'],\n",
    "    ['dub step', 'dubstep'],\n",
    "    ['dubstep & electronic','dubstep,electronic'],\n",
    "    ['electronic dance music', 'edm'],\n",
    "    ['eighties', '80s'],\n",
    "    ['electronic body music', 'ebm'],\n",
    "    ['eletronic', 'electronic'],\n",
    "    ['electronic music', 'electronic'],\n",
    "    ['electronica/dance','electronica,dance'],\n",
    "    ['experiemental', 'experimental'],\n",
    "    ['expiremental', 'experimental'],\n",
    "    ['female vocalist', 'female vocals'],\n",
    "    ['field recording', 'field recordings'],\n",
    "    ['fingerstyle', 'fingerstyle guitar'],\n",
    "    ['free download', 'free'],\n",
    "    ['free tekno','techno'],\n",
    "    ['free improv', 'free improvisation'],\n",
    "    ['hard core', 'hardcore'],\n",
    "    ['harmonies', 'harmony'],\n",
    "    ['healing & meditation','healing,meditation'],\n",
    "    ['heavy metal   hard rock', 'heavy metal,hard rock'],\n",
    "    ['hip hop instrumental', 'hiphop instrumental'],\n",
    "    ['hip hop instrumentals', 'hiphop instrumental'],\n",
    "    ['hip hop rap', 'hip hop,rap'],\n",
    "    ['hiphop rap', 'hip hop,rap'],\n",
    "    ['hip hop/rap', 'hip hop,rap'],\n",
    "    ['hip_hop', 'hip hop'],\n",
    "    ['hip hop (real shit)', 'hip hop'],\n",
    "    ['house techno minimal tech deep', 'house,techno,minimal,tech,deep'],\n",
    "    ['indie pop rock','indie pop,indie rock'],\n",
    "    ['indie rock pop','indie pop,indie rock'],\n",
    "    ['instrumentalhip hop', 'instrumental hip hop'],\n",
    "    ['jam track', 'jam'],\n",
    "    ['jam tracks', 'jam'],\n",
    "    ['jams', 'jam'],\n",
    "    ['jazz & improvised music','jazz,improvised music'],\n",
    "    ['left field', 'leftfield'],\n",
    "    ['lgbt', 'lgbtq'],\n",
    "    ['liquid dnb', 'liquid drum & bass'],\n",
    "    ['live music', 'live'],\n",
    "    ['live recording', 'live'],\n",
    "    ['lo fi house', 'lo fihouse'],\n",
    "    ['lofi hip hop', 'lo fi hip hop'],\n",
    "    ['lofi hiphop', 'lo fi hip hop'],\n",
    "    ['loop', 'loops'],\n",
    "    ['love song', 'love songs'],\n",
    "    ['mantras','mantra'],\n",
    "    ['mash up', 'mash ups'],\n",
    "    ['meditation music', 'meditation'],\n",
    "    ['melancholic','melancholy'],\n",
    "    ['metal core', 'metalcore'],\n",
    "    ['montreal', 'montréal'],\n",
    "    ['modular synth', 'modular synthesizer'],\n",
    "    ['music for youtube', 'youtube'],\n",
    "    ['nineties', '90s'],\n",
    "    ['nostalgic', 'nostalgia'],\n",
    "    ['oi','oi!'],\n",
    "    ['podcasts', 'podcast'],\n",
    "    ['post rock instrumental', 'post rock,instrumental'],\n",
    "    ['psychadelic','psychedelic'],\n",
    "    ['pyschedelic', 'psychedelic'],\n",
    "    ['psyche','psych'],\n",
    "    ['punk hardcore','hardcore punk'],\n",
    "    ['r n b', 'r&b'],\n",
    "    ['r & b', 'r&b'],\n",
    "    ['rnb', 'r&b'],\n",
    "    ['r&b/soul', 'r&b,soul'],\n",
    "    ['rap & hip hop','rap,hip hop'],\n",
    "    ['raga', 'ragga'],\n",
    "    ['riot grrrl', 'riot grrl'],\n",
    "    ['relaxation music', 'relaxation'],\n",
    "    ['relaxing music', 'relaxing'],\n",
    "    ['remixed','remix'],\n",
    "    ['remixes', 'remix'],\n",
    "    ['re edit', 're edits'],\n",
    "    ['re issue', 'reissues'],\n",
    "    ['rockandroll', 'rock & roll'],\n",
    "    ['rock and roll', 'rock & roll'],\n",
    "    ['rock n roll', 'rock & roll'],\n",
    "    ['royalty free music', 'royalty free'],\n",
    "    ['sample','samples'],\n",
    "    ['sample based', 'sampling'],\n",
    "    ['sci fi', 'science fiction'],\n",
    "    ['scores','score'],\n",
    "    ['scottish music', 'scottish'],\n",
    "    ['shoegazing', 'shoegaze'],\n",
    "    ['shoe gaze', 'shoegaze'],\n",
    "    ['shoegazer','shoegaze'],\n",
    "    ['soulfoul','soulful'],\n",
    "    ['soundscape', 'soundscapes'],\n",
    "    ['soundtracks', 'soundtrack'],\n",
    "    ['soundtrack music', 'soundtrack'],\n",
    "    ['spoken word poetry','spoken word'],\n",
    "    ['steppas', 'steppa'],\n",
    "    ['steppers', 'stepper'],\n",
    "    ['synthwave 80s','synthwave,80s'],\n",
    "    ['synthesizers', 'synthesizer'],\n",
    "    ['technoandvariations', 'techno & variations'],\n",
    "    ['tekno','techno'],\n",
    "    ['techno hardcore','hardcore techno'],\n",
    "    ['techno & variations', 'techno'],\n",
    "    ['trap music', 'trap'],\n",
    "    ['vgm', 'video game soundtrack'],\n",
    "    ['videogame music', 'video game music'],\n",
    "#     ['video game music', 'video game soundtrack'],\n",
    "    ['world music', 'world'],\n",
    "    ['yoga', 'yoga music']\n",
    "]"
   ]
  },
  {
   "cell_type": "code",
   "execution_count": 14,
   "metadata": {},
   "outputs": [
    {
     "data": {
      "text/plain": [
       "standard_name    477892\n",
       "genre            477892\n",
       "dtype: int64"
      ]
     },
     "execution_count": 14,
     "metadata": {},
     "output_type": "execute_result"
    }
   ],
   "source": [
    "for pair in genre_aliases:\n",
    "    reader['genre'] = reader['genre'].str.replace(\",{}(?=,|$)\".format(pair[0]), \",{}\".format(pair[1]), regex=True)\n",
    "    reader['genre'] = reader['genre'].str.replace(\"^{}(?=,|$)\".format(pair[0]), \"{}\".format(pair[1]), regex=True)\n",
    "reader.count()"
   ]
  },
  {
   "cell_type": "markdown",
   "metadata": {},
   "source": [
    "## 3. remove non-genres from the set"
   ]
  },
  {
   "cell_type": "code",
   "execution_count": 11,
   "metadata": {},
   "outputs": [],
   "source": [
    "# compile list of non-genres that don't belong in the set.\n",
    "# Words here describe the album in a way that has nothing to do with the music\n",
    "# (release type, production, organization, licensing, etc.)\n",
    "# Or are so useless that they can't be justified for inclusion (e.g., \"music\", \"everything\", \"etc\")\n",
    "ungenres = [\n",
    "    'album',\n",
    "    'awesome',\n",
    "    'bootleg',\n",
    "    'cassettes',\n",
    "    'charity',\n",
    "    'collaboration',\n",
    "    'concept album',\n",
    "    'conceptual',\n",
    "    'creative commons',\n",
    "    'demo',\n",
    "    'demos',\n",
    "    'diy record label',\n",
    "    'diy',\n",
    "    'download chill out music',\n",
    "    'download',\n",
    "    'download',\n",
    "#     'duo',\n",
    "    'ep',\n",
    "    'etc',\n",
    "    'everything',\n",
    "#     'female',\n",
    "    'free download',\n",
    "    'free',\n",
    "    'good music',\n",
    "    'home recording',\n",
    "    'homemade'\n",
    "    'label',\n",
    "    'live',\n",
    "    'lyrics',\n",
    "    'music',\n",
    "#     'music for youtube',\n",
    "    'multi genre',\n",
    "    'new',\n",
    "    'no copyright',\n",
    "    'no copyright music',\n",
    "    'no copyright sounds',\n",
    "    'obscure',\n",
    "    'original music',\n",
    "    'original',\n",
    "    'other',\n",
    "    'production',\n",
    "    'producer',\n",
    "    'rare',\n",
    "    'radio',\n",
    "    \"remix\",\n",
    "    're issue',\n",
    "    \"edit\",\n",
    "    'royalty free',\n",
    "#     'solo',\n",
    "#     'sounds',\n",
    "    'songs',\n",
    "#     'sound',\n",
    "    'tape',\n",
    "    'trax',\n",
    "#     'trio',\n",
    "    'unreleased',\n",
    "    'various artists',\n",
    "    'various',\n",
    "    'records',\n",
    "    'vinyl',\n",
    "    'whatever'\n",
    "#     'youtube'\n",
    "]\n",
    "\n",
    "for ungenre in ungenres:\n",
    "    reader['genre'] = reader['genre'].str.replace(\",{}(?=,|$)\".format(ungenre), \"\", regex=True)\n",
    "    reader['genre'] = reader['genre'].str.replace(\"^{}(,|$)\".format(ungenre), \"\", regex=True)"
   ]
  },
  {
   "cell_type": "markdown",
   "metadata": {},
   "source": [
    "## 4. Remove duplicate genres from the same row and strip blank spaces"
   ]
  },
  {
   "cell_type": "code",
   "execution_count": 15,
   "metadata": {},
   "outputs": [
    {
     "data": {
      "text/plain": [
       "standard_name    477892\n",
       "genre            477892\n",
       "dtype: int64"
      ]
     },
     "execution_count": 15,
     "metadata": {},
     "output_type": "execute_result"
    }
   ],
   "source": [
    "# delete rows with blank genres\n",
    "# place = reader.loc[reader['genre'] == '' ].copy()\n",
    "reader = reader.loc[reader['genre'] != '' ].copy()\n",
    "reader.count()"
   ]
  },
  {
   "cell_type": "code",
   "execution_count": 16,
   "metadata": {},
   "outputs": [
    {
     "data": {
      "application/vnd.jupyter.widget-view+json": {
       "model_id": "59c027f4862040569eedb79bc15d7517",
       "version_major": 2,
       "version_minor": 0
      },
      "text/plain": [
       "HBox(children=(HTML(value=''), FloatProgress(value=0.0, max=477892.0), HTML(value='')))"
      ]
     },
     "metadata": {},
     "output_type": "display_data"
    },
    {
     "name": "stdout",
     "output_type": "stream",
     "text": [
      "\n"
     ]
    }
   ],
   "source": [
    "with tqdm(total=reader.shape[0]) as pbar:    \n",
    "    for index, row in reader.iterrows():\n",
    "        pbar.update(1)\n",
    "        genre_string = row['genre']\n",
    "        # turn each \"genre\" field into alphabetized list\n",
    "        genre_list = sorted(list(genre_string.split(\",\")))\n",
    "        for item in genre_list:\n",
    "            item.strip()\n",
    "        # convert list into set to remove duplicates\n",
    "        genre_set = set(genre_list)\n",
    "        # save alphabetized set as genre\n",
    "        reader.at[index,'genre'] = repr(genre_set)"
   ]
  },
  {
   "cell_type": "code",
   "execution_count": 17,
   "metadata": {},
   "outputs": [
    {
     "data": {
      "text/html": [
       "<div>\n",
       "<style scoped>\n",
       "    .dataframe tbody tr th:only-of-type {\n",
       "        vertical-align: middle;\n",
       "    }\n",
       "\n",
       "    .dataframe tbody tr th {\n",
       "        vertical-align: top;\n",
       "    }\n",
       "\n",
       "    .dataframe thead th {\n",
       "        text-align: right;\n",
       "    }\n",
       "</style>\n",
       "<table border=\"1\" class=\"dataframe\">\n",
       "  <thead>\n",
       "    <tr style=\"text-align: right;\">\n",
       "      <th></th>\n",
       "      <th>standard_name</th>\n",
       "      <th>genre</th>\n",
       "    </tr>\n",
       "  </thead>\n",
       "  <tbody>\n",
       "    <tr>\n",
       "      <th>0</th>\n",
       "      <td>Adelaide SA, Australia</td>\n",
       "      <td>electronic,industrial,ebm,electronica</td>\n",
       "    </tr>\n",
       "    <tr>\n",
       "      <th>1</th>\n",
       "      <td>Adelaide SA, Australia</td>\n",
       "      <td>electronic,industrial,ebm,electronica</td>\n",
       "    </tr>\n",
       "    <tr>\n",
       "      <th>2</th>\n",
       "      <td>Adelaide SA, Australia</td>\n",
       "      <td>electronic,industrial,ebm,electronica</td>\n",
       "    </tr>\n",
       "    <tr>\n",
       "      <th>3</th>\n",
       "      <td>Adelaide SA, Australia</td>\n",
       "      <td>electronic,industrial,ebm,electronica</td>\n",
       "    </tr>\n",
       "    <tr>\n",
       "      <th>4</th>\n",
       "      <td>Adelaide SA, Australia</td>\n",
       "      <td>electronic,industrial,ebm,electronica</td>\n",
       "    </tr>\n",
       "  </tbody>\n",
       "</table>\n",
       "</div>"
      ],
      "text/plain": [
       "            standard_name                                  genre\n",
       "0  Adelaide SA, Australia  electronic,industrial,ebm,electronica\n",
       "1  Adelaide SA, Australia  electronic,industrial,ebm,electronica\n",
       "2  Adelaide SA, Australia  electronic,industrial,ebm,electronica\n",
       "3  Adelaide SA, Australia  electronic,industrial,ebm,electronica\n",
       "4  Adelaide SA, Australia  electronic,industrial,ebm,electronica"
      ]
     },
     "execution_count": 17,
     "metadata": {},
     "output_type": "execute_result"
    }
   ],
   "source": [
    "# reformats genre after \n",
    "reader['genre'] = reader['genre'].str.replace(\"'\", \"\", regex=False)\n",
    "reader['genre'] = reader['genre'].str.replace(\"{\", \"\", regex=False)\n",
    "reader['genre'] = reader['genre'].str.replace(\"}\", \"\", regex=False)\n",
    "reader['genre'] = reader['genre'].str.replace(\", \", \",\", regex=False)\n",
    "\n",
    "reader.head()"
   ]
  },
  {
   "cell_type": "markdown",
   "metadata": {},
   "source": [
    "# Save cleaned set to csv"
   ]
  },
  {
   "cell_type": "code",
   "execution_count": 18,
   "metadata": {},
   "outputs": [],
   "source": [
    "reader.to_csv('2_network_graph_cleaned.csv', index=False)"
   ]
  },
  {
   "cell_type": "code",
   "execution_count": null,
   "metadata": {},
   "outputs": [],
   "source": []
  }
 ],
 "metadata": {
  "kernelspec": {
   "display_name": "Python 3",
   "language": "python",
   "name": "python3"
  },
  "language_info": {
   "codemirror_mode": {
    "name": "ipython",
    "version": 3
   },
   "file_extension": ".py",
   "mimetype": "text/x-python",
   "name": "python",
   "nbconvert_exporter": "python",
   "pygments_lexer": "ipython3",
   "version": "3.8.5"
  }
 },
 "nbformat": 4,
 "nbformat_minor": 4
}
